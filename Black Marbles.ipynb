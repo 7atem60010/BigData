{
 "cells": [
  {
   "cell_type": "code",
   "execution_count": 163,
   "metadata": {},
   "outputs": [
    {
     "name": "stdout",
     "output_type": "stream",
     "text": [
      "controv\t\t max_topics_upvotes  topics_counter\t  user_count\r\n",
      "hot_topics\t subreddit_count     topics_counter_user  user_max\r\n",
      "hot_topics_user  subreddit_max\t     topics_updown\t  what_time\r\n"
     ]
    }
   ],
   "source": [
    "import pandas as pd\n",
    "import numpy as np\n",
    "import matplotlib.pyplot as plt\n",
    "import seaborn as sns\n",
    "path = './results/'\n",
    "sns.set_style(\"whitegrid\")\n",
    "!ls $path"
   ]
  },
  {
   "cell_type": "markdown",
   "metadata": {},
   "source": [
    "# 1. Counting subreddit and user counts\n",
    "We counted how many comments in each subreddit/submitted by each user to get a sense of which subreddits are more important than others, which users are more interactive than others and hence get more in depth insights about those subreddits/users later."
   ]
  },
  {
   "cell_type": "code",
   "execution_count": 164,
   "metadata": {},
   "outputs": [
    {
     "data": {
      "text/html": [
       "<div>\n",
       "<style scoped>\n",
       "    .dataframe tbody tr th:only-of-type {\n",
       "        vertical-align: middle;\n",
       "    }\n",
       "\n",
       "    .dataframe tbody tr th {\n",
       "        vertical-align: top;\n",
       "    }\n",
       "\n",
       "    .dataframe thead th {\n",
       "        text-align: right;\n",
       "    }\n",
       "</style>\n",
       "<table border=\"1\" class=\"dataframe\">\n",
       "  <thead>\n",
       "    <tr style=\"text-align: right;\">\n",
       "      <th></th>\n",
       "      <th>subreddit</th>\n",
       "      <th>count</th>\n",
       "    </tr>\n",
       "  </thead>\n",
       "  <tbody>\n",
       "    <tr>\n",
       "      <th>0</th>\n",
       "      <td>AskReddit</td>\n",
       "      <td>108</td>\n",
       "    </tr>\n",
       "    <tr>\n",
       "      <th>1</th>\n",
       "      <td>funny</td>\n",
       "      <td>40</td>\n",
       "    </tr>\n",
       "    <tr>\n",
       "      <th>2</th>\n",
       "      <td>pcmasterrace</td>\n",
       "      <td>34</td>\n",
       "    </tr>\n",
       "  </tbody>\n",
       "</table>\n",
       "</div>"
      ],
      "text/plain": [
       "      subreddit  count\n",
       "0     AskReddit    108\n",
       "1         funny     40\n",
       "2  pcmasterrace     34"
      ]
     },
     "metadata": {},
     "output_type": "display_data"
    },
    {
     "data": {
      "image/png": "[encoded data removed]",
      "text/plain": [
       "<Figure size 432x288 with 1 Axes>"
      ]
     },
     "metadata": {},
     "output_type": "display_data"
    }
   ],
   "source": [
    "df_sub = pd.read_csv(path+'subreddit_max', sep=' ', header=None, names= ['subreddit','count'])\n",
    "display(df_sub)\n",
    "g = sns.barplot(x='subreddit', y='count', data = df_sub)\n",
    "g.set_xticklabels(g.get_xticklabels(), \n",
    "                          rotation=90, \n",
    "                          horizontalalignment='right');"
   ]
  },
  {
   "cell_type": "code",
   "execution_count": 165,
   "metadata": {},
   "outputs": [
    {
     "data": {
      "text/html": [
       "<div>\n",
       "<style scoped>\n",
       "    .dataframe tbody tr th:only-of-type {\n",
       "        vertical-align: middle;\n",
       "    }\n",
       "\n",
       "    .dataframe tbody tr th {\n",
       "        vertical-align: top;\n",
       "    }\n",
       "\n",
       "    .dataframe thead th {\n",
       "        text-align: right;\n",
       "    }\n",
       "</style>\n",
       "<table border=\"1\" class=\"dataframe\">\n",
       "  <thead>\n",
       "    <tr style=\"text-align: right;\">\n",
       "      <th></th>\n",
       "      <th>user</th>\n",
       "      <th>count</th>\n",
       "    </tr>\n",
       "  </thead>\n",
       "  <tbody>\n",
       "    <tr>\n",
       "      <th>0</th>\n",
       "      <td>subredditreports</td>\n",
       "      <td>6</td>\n",
       "    </tr>\n",
       "    <tr>\n",
       "      <th>1</th>\n",
       "      <td>AutoModerator</td>\n",
       "      <td>3</td>\n",
       "    </tr>\n",
       "    <tr>\n",
       "      <th>2</th>\n",
       "      <td>TurtleforAG</td>\n",
       "      <td>3</td>\n",
       "    </tr>\n",
       "  </tbody>\n",
       "</table>\n",
       "</div>"
      ],
      "text/plain": [
       "               user  count\n",
       "0  subredditreports      6\n",
       "1     AutoModerator      3\n",
       "2       TurtleforAG      3"
      ]
     },
     "metadata": {},
     "output_type": "display_data"
    },
    {
     "data": {
      "image/png": "[encoded data removed]",
      "text/plain": [
       "<Figure size 432x288 with 1 Axes>"
      ]
     },
     "metadata": {},
     "output_type": "display_data"
    }
   ],
   "source": [
    "df_usr = pd.read_csv(path+'user_max', sep=' ', header=None, names= ['user','count'])\n",
    "display(df_usr)\n",
    "g = sns.barplot(x='user', y='count', data = df_usr)\n",
    "g.set_xticklabels(g.get_xticklabels(), \n",
    "                          rotation=90, \n",
    "                          horizontalalignment='right');"
   ]
  },
  {
   "cell_type": "markdown",
   "metadata": {},
   "source": [
    "# 2. Hot topics\n",
    "Now we check what are the top mentioned topics in the comments. We only asssumed highest 3 reddits/users. We assumed the most common word in a comment is the topic of the comment. We found that there are multiple words more repeated more than once which is a good sign (after removing the stop words). Here are the results we got.\n",
    "\n",
    "A noticable thing here is all the top comments are of 1 frequency. That means there is no two comments of the same topic in the same subreddit. I'm not sure if this will hold on the big dataset or not but let's hope it won't."
   ]
  },
  {
   "cell_type": "code",
   "execution_count": 166,
   "metadata": {},
   "outputs": [
    {
     "data": {
      "text/html": [
       "<div>\n",
       "<style scoped>\n",
       "    .dataframe tbody tr th:only-of-type {\n",
       "        vertical-align: middle;\n",
       "    }\n",
       "\n",
       "    .dataframe tbody tr th {\n",
       "        vertical-align: top;\n",
       "    }\n",
       "\n",
       "    .dataframe thead th {\n",
       "        text-align: right;\n",
       "    }\n",
       "</style>\n",
       "<table border=\"1\" class=\"dataframe\">\n",
       "  <thead>\n",
       "    <tr style=\"text-align: right;\">\n",
       "      <th></th>\n",
       "      <th>count</th>\n",
       "      <th>subreddit</th>\n",
       "      <th>topic</th>\n",
       "    </tr>\n",
       "  </thead>\n",
       "  <tbody>\n",
       "    <tr>\n",
       "      <th>0</th>\n",
       "      <td>1.0</td>\n",
       "      <td>AskReddit</td>\n",
       "      <td>song</td>\n",
       "    </tr>\n",
       "    <tr>\n",
       "      <th>1</th>\n",
       "      <td>1.0</td>\n",
       "      <td>AskReddit</td>\n",
       "      <td>sometimes</td>\n",
       "    </tr>\n",
       "    <tr>\n",
       "      <th>2</th>\n",
       "      <td>1.0</td>\n",
       "      <td>AskReddit</td>\n",
       "      <td>snack</td>\n",
       "    </tr>\n",
       "    <tr>\n",
       "      <th>3</th>\n",
       "      <td>1.0</td>\n",
       "      <td>AskReddit</td>\n",
       "      <td>post</td>\n",
       "    </tr>\n",
       "    <tr>\n",
       "      <th>4</th>\n",
       "      <td>1.0</td>\n",
       "      <td>AskReddit</td>\n",
       "      <td>please</td>\n",
       "    </tr>\n",
       "    <tr>\n",
       "      <th>5</th>\n",
       "      <td>1.0</td>\n",
       "      <td>AskReddit</td>\n",
       "      <td>playing</td>\n",
       "    </tr>\n",
       "    <tr>\n",
       "      <th>6</th>\n",
       "      <td>1.0</td>\n",
       "      <td>AskReddit</td>\n",
       "      <td>people</td>\n",
       "    </tr>\n",
       "    <tr>\n",
       "      <th>7</th>\n",
       "      <td>1.0</td>\n",
       "      <td>AskReddit</td>\n",
       "      <td>pc</td>\n",
       "    </tr>\n",
       "    <tr>\n",
       "      <th>8</th>\n",
       "      <td>1.0</td>\n",
       "      <td>AskReddit</td>\n",
       "      <td>one</td>\n",
       "    </tr>\n",
       "    <tr>\n",
       "      <th>9</th>\n",
       "      <td>1.0</td>\n",
       "      <td>AskReddit</td>\n",
       "      <td>moved</td>\n",
       "    </tr>\n",
       "  </tbody>\n",
       "</table>\n",
       "</div>"
      ],
      "text/plain": [
       "   count  subreddit      topic\n",
       "0    1.0  AskReddit       song\n",
       "1    1.0  AskReddit  sometimes\n",
       "2    1.0  AskReddit      snack\n",
       "3    1.0  AskReddit       post\n",
       "4    1.0  AskReddit     please\n",
       "5    1.0  AskReddit    playing\n",
       "6    1.0  AskReddit     people\n",
       "7    1.0  AskReddit         pc\n",
       "8    1.0  AskReddit        one\n",
       "9    1.0  AskReddit      moved"
      ]
     },
     "metadata": {},
     "output_type": "display_data"
    },
    {
     "data": {
      "image/png": "[encoded data removed]",
      "text/plain": [
       "<Figure size 432x288 with 1 Axes>"
      ]
     },
     "metadata": {},
     "output_type": "display_data"
    }
   ],
   "source": [
    "df_hot = pd.read_csv(path+'hot_topics', sep=',|\\t', header=None, names= ['count','subreddit','topic'],engine='python')\n",
    "df_hot['count'] = 1e6 - df_hot['count']\n",
    "display(df_hot)\n",
    "df_hot.sort_values(['subreddit','count'], ascending=[True,False], inplace=True)\n",
    "g = sns.barplot(data=df_hot, x='topic', y='count', hue='subreddit')\n",
    "g.set_xticklabels(g.get_xticklabels(), \n",
    "                          rotation=90, \n",
    "                          horizontalalignment='right');"
   ]
  },
  {
   "cell_type": "code",
   "execution_count": 167,
   "metadata": {},
   "outputs": [
    {
     "data": {
      "text/html": [
       "<div>\n",
       "<style scoped>\n",
       "    .dataframe tbody tr th:only-of-type {\n",
       "        vertical-align: middle;\n",
       "    }\n",
       "\n",
       "    .dataframe tbody tr th {\n",
       "        vertical-align: top;\n",
       "    }\n",
       "\n",
       "    .dataframe thead th {\n",
       "        text-align: right;\n",
       "    }\n",
       "</style>\n",
       "<table border=\"1\" class=\"dataframe\">\n",
       "  <thead>\n",
       "    <tr style=\"text-align: right;\">\n",
       "      <th></th>\n",
       "      <th>count</th>\n",
       "      <th>user</th>\n",
       "      <th>topic</th>\n",
       "    </tr>\n",
       "  </thead>\n",
       "  <tbody>\n",
       "    <tr>\n",
       "      <th>0</th>\n",
       "      <td>2.0</td>\n",
       "      <td>subredditreports</td>\n",
       "      <td>xx</td>\n",
       "    </tr>\n",
       "    <tr>\n",
       "      <th>1</th>\n",
       "      <td>1.0</td>\n",
       "      <td>subredditreports</td>\n",
       "      <td>xxxx</td>\n",
       "    </tr>\n",
       "    <tr>\n",
       "      <th>2</th>\n",
       "      <td>1.0</td>\n",
       "      <td>subredditreports</td>\n",
       "      <td>xxx</td>\n",
       "    </tr>\n",
       "    <tr>\n",
       "      <th>3</th>\n",
       "      <td>1.0</td>\n",
       "      <td>subredditreports</td>\n",
       "      <td>man</td>\n",
       "    </tr>\n",
       "    <tr>\n",
       "      <th>4</th>\n",
       "      <td>1.0</td>\n",
       "      <td>subredditreports</td>\n",
       "      <td>1ml</td>\n",
       "    </tr>\n",
       "    <tr>\n",
       "      <th>5</th>\n",
       "      <td>1.0</td>\n",
       "      <td>AutoModerator</td>\n",
       "      <td>post</td>\n",
       "    </tr>\n",
       "    <tr>\n",
       "      <th>6</th>\n",
       "      <td>1.0</td>\n",
       "      <td>AutoModerator</td>\n",
       "      <td>please</td>\n",
       "    </tr>\n",
       "  </tbody>\n",
       "</table>\n",
       "</div>"
      ],
      "text/plain": [
       "   count              user   topic\n",
       "0    2.0  subredditreports      xx\n",
       "1    1.0  subredditreports    xxxx\n",
       "2    1.0  subredditreports     xxx\n",
       "3    1.0  subredditreports     man\n",
       "4    1.0  subredditreports     1ml\n",
       "5    1.0     AutoModerator    post\n",
       "6    1.0     AutoModerator  please"
      ]
     },
     "metadata": {},
     "output_type": "display_data"
    },
    {
     "data": {
      "image/png": "[encoded data removed]",
      "text/plain": [
       "<Figure size 432x288 with 1 Axes>"
      ]
     },
     "metadata": {},
     "output_type": "display_data"
    }
   ],
   "source": [
    "df_hot = pd.read_csv(path+'hot_topics_user', sep=',|\\t', header=None, names= ['count','user','topic'],engine='python')\n",
    "df_hot['count'] = 1e6 - df_hot['count']\n",
    "display(df_hot)\n",
    "df_hot.sort_values(['user','count'], ascending=[True,False], inplace=True)\n",
    "g = sns.barplot(data=df_hot, x='topic', y='count', hue='user')\n",
    "g.set_xticklabels(g.get_xticklabels(), \n",
    "                          rotation=90, \n",
    "                          horizontalalignment='right');"
   ]
  },
  {
   "cell_type": "markdown",
   "metadata": {},
   "source": [
    "# 3. Controversial comments\n",
    "Ummm, we tried to use another rule for controversiality since most of the comments has 0 controverrsiality. This is most probably because the retrieval time is quite close to the creation time (1 month or so), so these comments in the dataset are quite new and didn't have the time to make impact or gain comments from the users. We used this formula ${cont. = score/(upvotes+downvotes)}$. Then we sum the controversity score accross each subreddit and innerjoin with the count table to get an average controversialty score. \n",
    "This is more a comparison between how controversial a subreddit is (instead of a post or a topic) and how big (more comments) it is. So basically, it's (sum of conv score across comments / count of comments) vs count of comments.\n"
   ]
  },
  {
   "cell_type": "code",
   "execution_count": 168,
   "metadata": {},
   "outputs": [
    {
     "data": {
      "image/png": "[encoded data removed]",
      "text/plain": [
       "<Figure size 432x288 with 1 Axes>"
      ]
     },
     "metadata": {},
     "output_type": "display_data"
    }
   ],
   "source": [
    "df_sub = pd.read_csv(path+'subreddit_count', sep='\\t', header=None, names= ['subreddit','count'])\n",
    "df_con = pd.read_csv(path+'controv', sep='\\t', header=None, names= ['subreddit','conv'])\n",
    "df = pd.merge(df_con,df_sub, on='subreddit').drop_duplicates('subreddit').sort_values(['conv','count'])\n",
    "df['conv_norm'] = df.conv/df['count']\n",
    "sns.regplot(data=df, x='conv_norm', y='count');"
   ]
  },
  {
   "cell_type": "code",
   "execution_count": 169,
   "metadata": {},
   "outputs": [
    {
     "data": {
      "image/png": "[encoded data removed]",
      "text/plain": [
       "<Figure size 432x288 with 1 Axes>"
      ]
     },
     "metadata": {},
     "output_type": "display_data"
    }
   ],
   "source": [
    "#now let's drop the elements with 0 or 1 normalized since it indicates total upvote or total downvote which shows no controversiality\n",
    "df = df[(df.conv_norm!=0) & (df.conv_norm!=1)]\n",
    "sns.regplot(data=df, x='conv_norm', y='count');"
   ]
  },
  {
   "cell_type": "markdown",
   "metadata": {},
   "source": [
    "We can see here there is a negative correlation between the average conversiality score of the subreddit and the popularity (number of monthly comments) of the subreddit."
   ]
  },
  {
   "cell_type": "markdown",
   "metadata": {},
   "source": [
    "# 4. Topics upvoted the most.\n",
    "We tried to take another approach regarding a topics popularity. Instead of summing out the words within a comment and come up with one topic, we will count the words within the whole file and find out the most common word within the file that has the most upvotes as well. That should create a hell of a mess so we narrowed down the output of the mappers to only the words that occured twice or more within the comment to be outputted. We ignored the downvotes since most of the comments has no downvotes or insignificant compared to upvotes.\n",
    "\n",
    "NB: Some words are not included in the stoplist and are meaningless, there is no way but to be handled manually forr now. You know subreddit is full of unexpected shit."
   ]
  },
  {
   "cell_type": "code",
   "execution_count": 170,
   "metadata": {},
   "outputs": [
    {
     "data": {
      "text/html": [
       "<div>\n",
       "<style scoped>\n",
       "    .dataframe tbody tr th:only-of-type {\n",
       "        vertical-align: middle;\n",
       "    }\n",
       "\n",
       "    .dataframe tbody tr th {\n",
       "        vertical-align: top;\n",
       "    }\n",
       "\n",
       "    .dataframe thead th {\n",
       "        text-align: right;\n",
       "    }\n",
       "</style>\n",
       "<table border=\"1\" class=\"dataframe\">\n",
       "  <thead>\n",
       "    <tr style=\"text-align: right;\">\n",
       "      <th></th>\n",
       "      <th>topic</th>\n",
       "      <th>ups</th>\n",
       "    </tr>\n",
       "  </thead>\n",
       "  <tbody>\n",
       "    <tr>\n",
       "      <th>28</th>\n",
       "      <td>bad</td>\n",
       "      <td>348</td>\n",
       "    </tr>\n",
       "    <tr>\n",
       "      <th>216</th>\n",
       "      <td>unpopular</td>\n",
       "      <td>277</td>\n",
       "    </tr>\n",
       "    <tr>\n",
       "      <th>113</th>\n",
       "      <td>like</td>\n",
       "      <td>86</td>\n",
       "    </tr>\n",
       "    <tr>\n",
       "      <th>138</th>\n",
       "      <td>new</td>\n",
       "      <td>83</td>\n",
       "    </tr>\n",
       "    <tr>\n",
       "      <th>89</th>\n",
       "      <td>going</td>\n",
       "      <td>55</td>\n",
       "    </tr>\n",
       "    <tr>\n",
       "      <th>150</th>\n",
       "      <td>opinions</td>\n",
       "      <td>48</td>\n",
       "    </tr>\n",
       "    <tr>\n",
       "      <th>81</th>\n",
       "      <td>first</td>\n",
       "      <td>48</td>\n",
       "    </tr>\n",
       "    <tr>\n",
       "      <th>173</th>\n",
       "      <td>really</td>\n",
       "      <td>28</td>\n",
       "    </tr>\n",
       "    <tr>\n",
       "      <th>75</th>\n",
       "      <td>entrepreneur</td>\n",
       "      <td>25</td>\n",
       "    </tr>\n",
       "    <tr>\n",
       "      <th>56</th>\n",
       "      <td>cup</td>\n",
       "      <td>24</td>\n",
       "    </tr>\n",
       "  </tbody>\n",
       "</table>\n",
       "</div>"
      ],
      "text/plain": [
       "            topic  ups\n",
       "28            bad  348\n",
       "216     unpopular  277\n",
       "113          like   86\n",
       "138           new   83\n",
       "89          going   55\n",
       "150      opinions   48\n",
       "81          first   48\n",
       "173        really   28\n",
       "75   entrepreneur   25\n",
       "56            cup   24"
      ]
     },
     "metadata": {},
     "output_type": "display_data"
    },
    {
     "data": {
      "image/png": "[encoded data removed]",
      "text/plain": [
       "<Figure size 432x288 with 1 Axes>"
      ]
     },
     "metadata": {},
     "output_type": "display_data"
    }
   ],
   "source": [
    "df_up = pd.read_csv(path+'max_topics_upvotes', sep='\\t', header=None, names= ['topic', 'ups'], error_bad_lines=False)\n",
    "df_up.sort_values('ups', ascending=False, inplace=True)\n",
    "df_up = df_up.iloc[:10]\n",
    "display(df_up)\n",
    "g = sns.barplot(data=df_up, x='topic', y = 'ups')\n",
    "g.set_xticklabels(g.get_xticklabels(), \n",
    "                          rotation=90, \n",
    "                          horizontalalignment='right');"
   ]
  },
  {
   "cell_type": "markdown",
   "metadata": {},
   "source": [
    "# 5. What time do people reddit the most?\n",
    "It would be useful to get info about the active hours for each subreddit. Maybe there is a unique pattern for each subrreddit. Mybe it's a common trend across reddit subtopics collectively.\n",
    "We divided the day into 8 equal subintervals each of 3 hours, starting from 00:00 AM to 03:00 AM for example, UTC time.\n",
    "We considered only the top 3 subreddits.\n",
    "\n",
    "NB: The data here is biased since we took the first 1400 line only which explains why all the data fall in the first column.\n"
   ]
  },
  {
   "cell_type": "code",
   "execution_count": 171,
   "metadata": {},
   "outputs": [
    {
     "data": {
      "image/png": "[encoded data removed]",
      "text/plain": [
       "<Figure size 432x288 with 1 Axes>"
      ]
     },
     "metadata": {},
     "output_type": "display_data"
    }
   ],
   "source": [
    "df_time = pd.read_csv(path+'what_time', sep=',|\\t', header=None, names= ['subreddit', 'interval', 'cnt'], engine='python')\n",
    "df_time.sort_values(['subreddit','interval'], inplace=True)\n",
    "g = sns.barplot(data=df_time, x='interval', y='cnt', hue='subreddit')"
   ]
  },
  {
   "cell_type": "code",
   "execution_count": null,
   "metadata": {},
   "outputs": [],
   "source": []
  },
  {
   "cell_type": "code",
   "execution_count": null,
   "metadata": {},
   "outputs": [],
   "source": []
  }
 ],
 "metadata": {
  "kernelspec": {
   "display_name": "Python 3",
   "language": "python",
   "name": "python3"
  },
  "language_info": {
   "codemirror_mode": {
    "name": "ipython",
    "version": 3
   },
   "file_extension": ".py",
   "mimetype": "text/x-python",
   "name": "python",
   "nbconvert_exporter": "python",
   "pygments_lexer": "ipython3",
   "version": "3.8.5"
  }
 },
 "nbformat": 4,
 "nbformat_minor": 4
}
